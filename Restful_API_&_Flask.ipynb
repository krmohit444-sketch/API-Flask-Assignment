{
  "nbformat": 4,
  "nbformat_minor": 0,
  "metadata": {
    "colab": {
      "provenance": []
    },
    "kernelspec": {
      "name": "python3",
      "display_name": "Python 3"
    },
    "language_info": {
      "name": "python"
    }
  },
  "cells": [
    {
      "cell_type": "markdown",
      "source": [
        "# ASSIGNMENT : Restful API & Flask"
      ],
      "metadata": {
        "id": "18j3IpXGB6yK"
      }
    },
    {
      "cell_type": "markdown",
      "source": [
        "1.  What is a RESTful API?\n",
        "\n",
        " ==> A RESTful API is an interface that follows the principles of REST (Representational State Transfer).\n",
        "\n",
        "It uses HTTP methods (GET, POST, PUT, DELETE) for communication.\n",
        "\n",
        "Data is usually exchanged in JSON format.\n",
        "\n",
        "Each resource (e.g., /users, /products) has a unique URL.\n",
        "\n",
        "2.  Explain the concept of API specification.\n",
        "\n",
        " ==> An API specification is a blueprint or contract that describes how an API works.\n",
        "\n",
        "Defines endpoints, request parameters, response format, status codes.\n",
        "\n",
        "Ensures consistency for developers.\n",
        "\n",
        "Examples: OpenAPI (Swagger), RAML.\n",
        "\n",
        "3.  What is Flask, and why is it popular for building APIs?\n",
        "\n",
        " ==> Flask is a lightweight Python web framework.\n",
        "\n",
        "Popular because:\n",
        "\n",
        "Simple and minimalistic.\n",
        "\n",
        "Built-in routing and request handling.\n",
        "\n",
        "Supports REST APIs easily.\n",
        "\n",
        "Large community and extensions (Flask-RESTful, Flask-SQLAlchemy).\n",
        "\n",
        "4.  What is routing in Flask?\n",
        "\n",
        " ==> Routing maps a URL to a function.\n",
        "\n",
        "Example:\n",
        "from flask import Flask\n",
        "app = Flask(__name__)\n",
        "\n",
        "@app.route('/')\n",
        "def home():\n",
        "    return \"Hello, Flask!\"\n",
        "\n",
        "5.  How do you create a simple Flask application?\n",
        "\n",
        " ==> from flask import Flask\n",
        "app = Flask(__name__)\n",
        "\n",
        "@app.route('/')\n",
        "def index():\n",
        "    return \"Welcome to my Flask App!\"\n",
        "\n",
        "if __name__ == '__main__':\n",
        "    app.run(debug=True)\n",
        "\n",
        "6.  What are HTTP methods used in RESTful APIs?\n",
        "\n",
        " ==> GET → Retrieve data\n",
        "\n",
        "POST → Create new data\n",
        "\n",
        "PUT → Update existing data\n",
        "\n",
        "DELETE → Remove data\n",
        "\n",
        "PATCH → Partial update\n",
        "\n",
        "7. What is the purpose of the @app.route() decorator in Flask?\n",
        "\n",
        " ==> It associates a URL path with a function.\n",
        "\n",
        "Example:\n",
        "@app.route('/about')\n",
        "def about():\n",
        "    return \"About Page\"\n",
        "\n",
        "8.  What is the difference between GET and POST HTTP methods?\n",
        "\n",
        " ==> GET → Request data, parameters in URL, not secure.\n",
        "\n",
        "POST → Send data in body, secure, used for forms/data insertion.\n",
        "\n",
        "9.  How do you handle errors in Flask APIs?\n",
        "\n",
        " ==> @app.errorhandler(404)\n",
        "def not_found(e):\n",
        "    return {\"error\": \"Not Found\"}, 404\n",
        "\n",
        "@app.errorhandler(500)\n",
        "def server_error(e):\n",
        "    return {\"error\": \"Server Error\"}, 500\n",
        "\n",
        "10.  How do you connect Flask to a SQL database?\n",
        "\n",
        " ==> Using Flask-SQLAlchemy:\n",
        "\n",
        "from flask_sqlalchemy import SQLAlchemy\n",
        "\n",
        "app.config['SQLALCHEMY_DATABASE_URI'] = 'sqlite:///data.db'\n",
        "db = SQLAlchemy(app)\n",
        "\n",
        "11.  What is the role of Flask-SQLAlchemy?\n",
        "\n",
        " ==> ORM (Object Relational Mapper) for Flask.\n",
        "\n",
        "Helps interact with databases using Python classes instead of SQL queries\n",
        "\n",
        "12.  What are Flask blueprints, and how are they useful?\n",
        "\n",
        " ==> Blueprints → way to organize large apps into modules.\n",
        "\n",
        "Example: auth.py, admin.py.\n",
        "\n",
        "Makes project scalable & reusable.\n",
        "\n",
        "13.  What is the purpose of Flask's request object?\n",
        "\n",
        " ==> Provides access to incoming request data.\n",
        "\n",
        "Example:\n",
        "\n",
        "from flask import request\n",
        "\n",
        "@app.route('/submit', methods=['POST'])\n",
        "def submit():\n",
        "    data = request.form['name']\n",
        "    return f\"Hello {data}\"\n",
        "\n",
        "14.  How do you create a RESTful API endpoint using Flask?\n",
        "\n",
        " ==> @app.route('/api/data', methods=['GET'])\n",
        "def get_data():\n",
        "    return {\"message\": \"This is a RESTful endpoint\"}\n",
        "\n",
        "15.  What is the purpose of Flask's jsonify() function?\n",
        "\n",
        " ==> Converts Python dict → JSON response.\n",
        "\n",
        "from flask import jsonify\n",
        "@app.route('/json')\n",
        "def json_example():\n",
        "    return jsonify({\"name\": \"Flask\", \"type\": \"API\"})\n",
        "\n",
        "16.  Explain Flask’s url_for() function.\n",
        "\n",
        " ==> Dynamically generates URLs.\n",
        "\n",
        "from flask import url_for\n",
        "url_for('home')   # returns \"/\"\n",
        "\n",
        "17.  How does Flask handle static files (CSS, JavaScript, etc.)?\n",
        "\n",
        " ==> By default, Flask serves files from /static folder.\n",
        "\n",
        "Example: <img src=\"{{ url_for('static', filename='logo.png') }}\">\n",
        "\n",
        "18.  What is an API specification, and how does it help in building a Flask API?\n",
        "\n",
        " ==>Defines how the API works (endpoints, parameters, responses).\n",
        "\n",
        "Helps developers understand and integrate APIs correctly.\n",
        "\n",
        "19.  What are HTTP status codes, and why are they important in a Flask API?\n",
        "\n",
        " ==>Codes indicating request result:\n",
        "\n",
        "200 = OK\n",
        "\n",
        "201 = Created\n",
        "\n",
        "400 = Bad Request\n",
        "\n",
        "404 = Not Found\n",
        "\n",
        "500 = Server Error\n",
        "\n",
        "Important for debugging and client communication.\n",
        "20.  How do you handle POST requests in Flask?\n",
        "\n",
        " ==>@app.route('/post', methods=['POST'])\n",
        "def post_data():\n",
        "    data = request.json\n",
        "    return {\"received\": data}, 201\n",
        "\n",
        "\n",
        "21.  How would you secure a Flask API?\n",
        "\n",
        " ==> Use Authentication (JWT, OAuth).\n",
        "\n",
        "HTTPS instead of HTTP.\n",
        "\n",
        "Input validation.\n",
        "\n",
        "Rate limiting.\n",
        "\n",
        "Secure database queries (prevent SQL Injection).\n",
        "\n",
        "22.  What is the significance of the Flask-RESTful extension?\n",
        "\n",
        " ==> Simplifies API creation with:\n",
        "\n",
        "Resource classes\n",
        "\n",
        "Request parsing\n",
        "\n",
        "Automatic JSON conversion\n",
        "\n",
        "23.  What is the role of Flask’s session object?\n",
        "\n",
        " ==> Stores user-specific data across requests.\n",
        "\n",
        "session['user'] = 'mohit'\n",
        "\n"
      ],
      "metadata": {
        "id": "AxIFn0c9CJPx"
      }
    },
    {
      "cell_type": "markdown",
      "source": [
        "# PRACTICLE QUESTIONS"
      ],
      "metadata": {
        "id": "mHwtH4P4CJMX"
      }
    },
    {
      "cell_type": "code",
      "execution_count": null,
      "metadata": {
        "colab": {
          "base_uri": "https://localhost:8080/"
        },
        "id": "8VjqattFBosQ",
        "outputId": "6430baaf-6abb-493e-981a-95cf4d11b97e"
      },
      "outputs": [
        {
          "output_type": "stream",
          "name": "stdout",
          "text": [
            " * Serving Flask app '__main__'\n",
            " * Debug mode: on\n"
          ]
        },
        {
          "output_type": "stream",
          "name": "stderr",
          "text": [
            "INFO:werkzeug:\u001b[31m\u001b[1mWARNING: This is a development server. Do not use it in a production deployment. Use a production WSGI server instead.\u001b[0m\n",
            " * Running on http://127.0.0.1:5000\n",
            "INFO:werkzeug:\u001b[33mPress CTRL+C to quit\u001b[0m\n",
            "INFO:werkzeug: * Restarting with watchdog (inotify)\n"
          ]
        }
      ],
      "source": [
        "# 1. How do you create a basic Flask application?\n",
        "\n",
        "from flask import Flask, render_template, request, redirect, url_for, jsonify, session\n",
        "\n",
        "app = Flask(__mohit__)\n",
        "app.secret_key = \"secret123\"\n",
        "\n",
        "@app.route('/')\n",
        "def home():\n",
        "    return \"Welcome to Flask Practical!\"\n"
      ]
    },
    {
      "cell_type": "code",
      "source": [
        "# 2.  How do you serve static files like images or CSS in Flask?\n",
        "\n",
        "from flask import Flask, render_template\n",
        "app = Flask(__mohit__)\n",
        "\n",
        "@app.route('/')\n",
        "def index():\n",
        "    return render_template(\"index.html\")\n",
        "\n"
      ],
      "metadata": {
        "id": "f-IOzLwVJZPF"
      },
      "execution_count": null,
      "outputs": []
    },
    {
      "cell_type": "code",
      "source": [
        "# 3.  How do you define different routes with different HTTP methods in Flask?\n",
        "\n",
        "from flask import Flask, request\n",
        "app = Flask(__mohit__)\n",
        "\n",
        "@app.route('/user', methods=['GET', 'POST'])\n",
        "def user():\n",
        "    if request.method == 'POST':\n",
        "        return \"POST Request Received\"\n",
        "    return \"GET Request Received\"\n",
        ""
      ],
      "metadata": {
        "id": "J3Go7C6XJZLs"
      },
      "execution_count": null,
      "outputs": []
    },
    {
      "cell_type": "code",
      "source": [
        "# 4.  How do you render HTML templates in Flask?\n",
        "\n",
        "from flask import render_template\n",
        "\n",
        "@app.route('/hello/<username>')\n",
        "def hello(username):\n",
        "    return render_template(\"hello.html\", name=username)\n",
        ""
      ],
      "metadata": {
        "id": "ghXG8q2VJZIt"
      },
      "execution_count": null,
      "outputs": []
    },
    {
      "cell_type": "code",
      "source": [
        "# 5.  How can you generate URLs for routes in Flask using url_for?\n",
        "\n",
        "from flask import url_for, redirect\n",
        "\n",
        "@app.route('/dashboard')\n",
        "def dashboard():\n",
        "    return \"Welcome to Dashboard!\"\n",
        "\n",
        "@app.route('/go-to-dashboard')\n",
        "def go_to_dashboard():\n",
        "    return redirect(url_for('dashboard'))\n"
      ],
      "metadata": {
        "id": "1pUH3BjmJZGS"
      },
      "execution_count": null,
      "outputs": []
    },
    {
      "cell_type": "code",
      "source": [
        "# 6. How do you handle forms in Flask?\n",
        "\n",
        "from flask import request, render_template\n",
        "\n",
        "@app.route('/form', methods=['GET', 'POST'])\n",
        "def form():\n",
        "    if request.method == 'POST':\n",
        "        name = request.form['name']\n",
        "        return f\"Hello {name}!\"\n",
        "    return render_template(\"form.html\")\n"
      ],
      "metadata": {
        "id": "sBDJeG5AJZCm"
      },
      "execution_count": null,
      "outputs": []
    },
    {
      "cell_type": "code",
      "source": [
        "# 7.  How can you validate form data in Flask?\n",
        "\n",
        "@app.route('/validate', methods=['POST'])\n",
        "def validate():\n",
        "    email = request.form.get('email')\n",
        "    if not email:\n",
        "        return \"Email is required!\"\n",
        "    return f\"Email received: {email}\"\n"
      ],
      "metadata": {
        "id": "i2VZtJkBJZA2"
      },
      "execution_count": null,
      "outputs": []
    },
    {
      "cell_type": "code",
      "source": [
        "# 8.  How do you manage sessions in Flask?\n",
        "\n",
        "from flask import session\n",
        "\n",
        "app.secret_key = \"secret123\"\n",
        "\n",
        "@app.route('/login')\n",
        "def login():\n",
        "    session['user'] = 'mohit'\n",
        "    return \"User logged in!\"\n",
        "\n",
        "@app.route('/profile')\n",
        "def profile():\n",
        "    return f\"Welcome {session.get('user')}\"\n"
      ],
      "metadata": {
        "id": "MDUQ-DXDJY9_"
      },
      "execution_count": null,
      "outputs": []
    },
    {
      "cell_type": "code",
      "source": [
        "# 9. How do you redirect to a different route in Flask?\n",
        "\n",
        "@app.route('/old')\n",
        "def old():\n",
        "    return redirect(url_for('new'))\n",
        "\n",
        "@app.route('/new')\n",
        "def new():\n",
        "    return \"This is the new page!\"\n"
      ],
      "metadata": {
        "id": "-35Qyp28JY6p"
      },
      "execution_count": null,
      "outputs": []
    },
    {
      "cell_type": "code",
      "source": [
        "# 10.  How do you handle errors in Flask (e.g., 404)?\n",
        "\n",
        "@app.errorhandler(404)\n",
        "def page_not_found(e):\n",
        "    return \"Oops! Page not found.\", 404\n"
      ],
      "metadata": {
        "id": "WD0mlhGaJY4j"
      },
      "execution_count": null,
      "outputs": []
    },
    {
      "cell_type": "code",
      "source": [
        "# 11.  How do you structure a Flask app using Blueprints?\n",
        "\n",
        "from flask import Blueprint\n",
        "\n",
        "auth = Blueprint('auth', __name__)\n",
        "\n",
        "@auth.route('/login')\n",
        "def login():\n",
        "    return \"Login Page\"\n"
      ],
      "metadata": {
        "id": "g92wUuF3JY1K"
      },
      "execution_count": null,
      "outputs": []
    },
    {
      "cell_type": "code",
      "source": [
        "# 12.  How do you define a custom Jinja filter in Flask?\n",
        "\n",
        "@app.template_filter('reverse')\n",
        "def reverse_filter(s):\n",
        "    return s[::-1]\n",
        "\n",
        "@app.route('/filter/<word>')\n",
        "def filter_example(word):\n",
        "    return render_template(\"filter.html\", word=word)\n"
      ],
      "metadata": {
        "id": "TIGde5DNJYzP"
      },
      "execution_count": null,
      "outputs": []
    },
    {
      "cell_type": "code",
      "source": [
        "# 13. How can you redirect with query parameters in Flask?\n",
        "\n",
        "@app.route('/search')\n",
        "def search():\n",
        "    return \"Search Page\"\n",
        "\n",
        "@app.route('/go')\n",
        "def go():\n",
        "    return redirect(url_for('search', q='flask'))\n"
      ],
      "metadata": {
        "id": "cqncD_lHJYls"
      },
      "execution_count": null,
      "outputs": []
    },
    {
      "cell_type": "code",
      "source": [
        "# 14. How do you return JSON responses in Flask?\n",
        "\n",
        "from flask import jsonify\n",
        "\n",
        "@app.route('/json')\n",
        "def json_resp():\n",
        "    return jsonify({\"framework\": \"Flask\", \"type\": \"REST API\"})\n"
      ],
      "metadata": {
        "id": "I0s_zmsoJYUx"
      },
      "execution_count": null,
      "outputs": []
    },
    {
      "cell_type": "code",
      "source": [
        "# 15.  How do you capture URL parameters in Flask??\n",
        "\n",
        "@app.route('/user/<username>/<int:age>')\n",
        "def user_profile(username, age):\n",
        "    return f\"User: {username}, Age: {age}\"\n"
      ],
      "metadata": {
        "id": "9xDZ_Og6MQKM"
      },
      "execution_count": null,
      "outputs": []
    }
  ]
}